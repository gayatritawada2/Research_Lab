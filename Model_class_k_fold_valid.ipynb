{
 "metadata": {
  "language_info": {
   "codemirror_mode": {
    "name": "ipython",
    "version": 3
   },
   "file_extension": ".py",
   "mimetype": "text/x-python",
   "name": "python",
   "nbconvert_exporter": "python",
   "pygments_lexer": "ipython3",
   "version": "3.7.4"
  },
  "orig_nbformat": 4,
  "kernelspec": {
   "name": "python3",
   "display_name": "Python 3.7.4 64-bit ('base': conda)"
  },
  "interpreter": {
   "hash": "dca0ade3e726a953b501b15e8e990130d2b7799f14cfd9f4271676035ebe5511"
  }
 },
 "nbformat": 4,
 "nbformat_minor": 2,
 "cells": [
  {
   "source": [
    "import pandas as pd\n",
    "import sklearn\n",
    "import numpy as np\n",
    "import matplotlib.pyplot as plt\n",
    "plt.style.use('ggplot')\n",
    "from sklearn.model_selection import train_test_split"
   ],
   "cell_type": "code",
   "metadata": {},
   "execution_count": 2,
   "outputs": []
  },
  {
   "cell_type": "code",
   "execution_count": 5,
   "metadata": {},
   "outputs": [
    {
     "output_type": "execute_result",
     "data": {
      "text/plain": [
       "pandas.core.frame.DataFrame"
      ]
     },
     "metadata": {},
     "execution_count": 5
    }
   ],
   "source": [
    "intents = pd.read_excel('/Users/apple/Desktop/Intent_classification_filtered_1.xlsx')\n",
    "\n",
    "type(intents)"
   ]
  },
  {
   "cell_type": "code",
   "execution_count": 88,
   "metadata": {},
   "outputs": [
    {
     "output_type": "execute_result",
     "data": {
      "text/plain": [
       "pandas.core.series.Series"
      ]
     },
     "metadata": {},
     "execution_count": 88
    }
   ],
   "source": [
    "Intent = pd.DataFrame()\n",
    "Content = pd.DataFrame()\n",
    "Intent = intents['Intents']\n",
    "Content = intents.drop('Intents',axis=1)\n",
    "type(Intent)"
   ]
  },
  {
   "cell_type": "code",
   "execution_count": 89,
   "metadata": {},
   "outputs": [
    {
     "output_type": "stream",
     "name": "stdout",
     "text": [
      "<bound method NDFrame.head of                                                 Models  Label  \\\n0                                     P1-Ant2Maven.atl      1   \n1                                     P1-Maven2XML.atl      2   \n2                                      P46-Ant2XML.atl      2   \n3                                       P1-XML2Ant.atl      0   \n4                                      P59-XML2XML.atl      6   \n..                                                 ...    ...   \n169                          P51-Table2SVGBarChart.atl      3   \n170                          P51-Table2SVGPieChart.atl      3   \n171                          P51-Table2TabularHTML.atl      3   \n172                                 P53-METAH2ACME.atl      6   \n173  P54-SpreadsheetMLSimplified2SoftwareQualityCon...      1   \n\n                                               Content  \\\n0    module Ant2Maven;\\n\\n\\n\\ncreate OUTMaven : Mav...   \n1    module Maven2XML;\\n\\n\\n\\ncreate  XML1 : XMLMav...   \n2    module Ant2XML;\\n\\n\\n\\ncreate OUT : XML from I...   \n3    module XML2Ant;\\n\\n\\n\\ncreate OUT : Ant from I...   \n4    module XML2XML;\\n\\n\\n\\ncreate OUT : XML from I...   \n..                                                 ...   \n169  module Table2SVG; \\n\\ncreate OUT : SVG from IN...   \n170  module Table2SVG; \\n\\ncreate OUT : SVG from IN...   \n171  module Table2HTML; \\n\\ncreate OUT : HTML from ...   \n172  module METAH2ACME;\\n\\n\\n\\ncreate OUT : ACME fr...   \n173  module SpreadsheetMLSimplified2SoftwareQuality...   \n\n                                       tokenized_words  \\\n0    module ant 2 maven ; create out maven maven ma...   \n1    module maven 2 xml ; create xml 1 xml maven , ...   \n2    module ant 2 xml ; create out xml from in ant ...   \n3    module xml 2 ant ; create out ant from in xml ...   \n4    module xml 2 xml ; create out xml from in xml ...   \n..                                                 ...   \n169  module table 2 svg ; create out svg from in ta...   \n170  module table 2 svg ; create out svg from in ta...   \n171  module table 2 html ; create out html from in ...   \n172  module metah 2 acme ; create out acme from in ...   \n173  module spreadsheet ml simplified 2 software qu...   \n\n                                   stop_words_filtered  \\\n0    module ant 2 maven ; create out maven maven ma...   \n1    module maven 2 xml ; create xml 1 xml maven , ...   \n2    module ant 2 xml ; create out xml from in ant ...   \n3    module xml 2 ant ; create out ant from in xml ...   \n4    module xml 2 xml ; create out xml from in xml ...   \n..                                                 ...   \n169  module table 2 svg ; create out svg from in ta...   \n170  module table 2 svg ; create out svg from in ta...   \n171  module table 2 html ; create out html from in ...   \n172  module metah 2 acme ; create out acme from in ...   \n173  module spreadsheet ml simplified 2 software qu...   \n\n                                       stemmed_content  \n0    modul ant 2 maven ; creat out maven maven mave...  \n1    modul maven 2 xml ; creat xml 1 xml maven , xm...  \n2    modul ant 2 xml ; creat out xml from in ant ; ...  \n3    modul xml 2 ant ; creat out ant from in xml ; ...  \n4    modul xml 2 xml ; creat out xml from in xml ; ...  \n..                                                 ...  \n169  modul tabl 2 svg ; creat out svg from in tabl ...  \n170  modul tabl 2 svg ; creat out svg from in tabl ...  \n171  modul tabl 2 html ; creat out html from in tab...  \n172  modul metah 2 acm ; creat out acm from in meta...  \n173  modul spreadsheet ml simplifi 2 softwar qualit...  \n\n[174 rows x 6 columns]>\n"
     ]
    }
   ],
   "source": [
    "print(Content.head)"
   ]
  },
  {
   "cell_type": "code",
   "execution_count": 90,
   "metadata": {},
   "outputs": [
    {
     "output_type": "execute_result",
     "data": {
      "text/plain": [
       "(174, 2508)"
      ]
     },
     "metadata": {},
     "execution_count": 90
    }
   ],
   "source": [
    "from sklearn.feature_extraction.text import TfidfVectorizer\n",
    "vect = TfidfVectorizer()\n",
    "val = vect.fit_transform(Content.tokenized_words)\n",
    "val.shape"
   ]
  },
  {
   "cell_type": "code",
   "execution_count": 91,
   "metadata": {},
   "outputs": [
    {
     "output_type": "execute_result",
     "data": {
      "text/plain": [
       "(174, 14)"
      ]
     },
     "metadata": {},
     "execution_count": 91
    }
   ],
   "source": [
    "from sklearn.feature_extraction.text import TfidfVectorizer\n",
    "vect = TfidfVectorizer()\n",
    "val = vect.fit_transform(Intent)\n",
    "val.shape"
   ]
  },
  {
   "cell_type": "code",
   "execution_count": 92,
   "metadata": {},
   "outputs": [
    {
     "output_type": "execute_result",
     "data": {
      "text/plain": [
       "(174, 1048576)"
      ]
     },
     "metadata": {},
     "execution_count": 92
    }
   ],
   "source": [
    "from sklearn.feature_extraction.text import HashingVectorizer\n",
    "vectorizer = HashingVectorizer(stop_words='english')\n",
    "X_train = vectorizer.fit_transform(Content.tokenized_words)\n",
    "#print(X_train)\n",
    "X_train.shape"
   ]
  },
  {
   "cell_type": "code",
   "execution_count": 93,
   "metadata": {},
   "outputs": [
    {
     "output_type": "execute_result",
     "data": {
      "text/plain": [
       "(174, 22958)"
      ]
     },
     "metadata": {},
     "execution_count": 93
    }
   ],
   "source": [
    "from sklearn.feature_extraction.text import CountVectorizer\n",
    "count_vect = CountVectorizer(stop_words='english',ngram_range=(2, 2))\n",
    "X_train_counts = count_vect.fit_transform(Content.tokenized_words)\n",
    "\n",
    "X_train_counts.shape"
   ]
  },
  {
   "source": [
    "from sklearn.pipeline import Pipeline\n",
    "from sklearn.neighbors import KNeighborsClassifier\n",
    "text_clf = Pipeline([('tfidf', TfidfVectorizer()),('clf', KNeighborsClassifier()),])\n",
    "cv_results = cross_val_score(text_clf, Content.tokenized_words, Intent, cv=3)\n",
    "print(cv_results)\n",
    "np.mean(cv_results)"
   ],
   "cell_type": "code",
   "metadata": {},
   "execution_count": 94,
   "outputs": [
    {
     "output_type": "stream",
     "name": "stderr",
     "text": [
      "/opt/anaconda3/lib/python3.7/site-packages/sklearn/model_selection/_split.py:657: Warning: The least populated class in y has only 1 members, which is too few. The minimum number of members in any class cannot be less than n_splits=3.\n",
      "  % (min_groups, self.n_splits)), Warning)\n",
      "[0.47540984 0.53448276 0.27272727]\n"
     ]
    },
    {
     "output_type": "execute_result",
     "data": {
      "text/plain": [
       "0.42753995580451204"
      ]
     },
     "metadata": {},
     "execution_count": 94
    }
   ]
  },
  {
   "cell_type": "code",
   "execution_count": 95,
   "metadata": {},
   "outputs": [
    {
     "output_type": "stream",
     "name": "stderr",
     "text": [
      "/opt/anaconda3/lib/python3.7/site-packages/sklearn/model_selection/_split.py:657: Warning: The least populated class in y has only 1 members, which is too few. The minimum number of members in any class cannot be less than n_splits=3.\n",
      "  % (min_groups, self.n_splits)), Warning)\n",
      "[0.3442623  0.4137931  0.29090909]\n"
     ]
    },
    {
     "output_type": "execute_result",
     "data": {
      "text/plain": [
       "0.3496548298131113"
      ]
     },
     "metadata": {},
     "execution_count": 95
    }
   ],
   "source": [
    "from sklearn.pipeline import Pipeline\n",
    "from sklearn.neighbors import KNeighborsClassifier\n",
    "text_clf = Pipeline([('vect', CountVectorizer(ngram_range=(2, 2))),('clf', KNeighborsClassifier()),])\n",
    "cv_results = cross_val_score(text_clf, Content.tokenized_words, Intent, cv=3)\n",
    "print(cv_results)\n",
    "np.mean(cv_results)"
   ]
  },
  {
   "cell_type": "code",
   "execution_count": 96,
   "metadata": {},
   "outputs": [
    {
     "output_type": "stream",
     "name": "stderr",
     "text": [
      "/opt/anaconda3/lib/python3.7/site-packages/sklearn/model_selection/_split.py:657: Warning: The least populated class in y has only 1 members, which is too few. The minimum number of members in any class cannot be less than n_splits=3.\n",
      "  % (min_groups, self.n_splits)), Warning)\n",
      "[0.49180328 0.55172414 0.30909091]\n"
     ]
    },
    {
     "output_type": "execute_result",
     "data": {
      "text/plain": [
       "0.4508727752368227"
      ]
     },
     "metadata": {},
     "execution_count": 96
    }
   ],
   "source": [
    "from sklearn.pipeline import Pipeline\n",
    "from sklearn.neighbors import KNeighborsClassifier\n",
    "text_clf = Pipeline([('hashvector',HashingVectorizer()),('clf', KNeighborsClassifier()),])\n",
    "cv_results = cross_val_score(text_clf, Content.Content, Intent, cv=3)\n",
    "print(cv_results)\n",
    "np.mean(cv_results)\n"
   ]
  },
  {
   "cell_type": "code",
   "execution_count": 97,
   "metadata": {},
   "outputs": [
    {
     "output_type": "stream",
     "name": "stderr",
     "text": [
      "/opt/anaconda3/lib/python3.7/site-packages/sklearn/model_selection/_split.py:657: Warning: The least populated class in y has only 1 members, which is too few. The minimum number of members in any class cannot be less than n_splits=3.\n",
      "  % (min_groups, self.n_splits)), Warning)\n",
      "[0.47540984 0.5862069  0.34545455]\n"
     ]
    },
    {
     "output_type": "execute_result",
     "data": {
      "text/plain": [
       "0.4690237593572811"
      ]
     },
     "metadata": {},
     "execution_count": 97
    }
   ],
   "source": [
    "from sklearn.linear_model import SGDClassifier\n",
    "text_clf_svm = Pipeline([('hashvector',HashingVectorizer()),('clf-svm', SGDClassifier(loss='hinge', penalty='l2',alpha=1e-3, max_iter=1000, random_state=42)),])\n",
    "cv_results = cross_val_score(text_clf_svm, Content.Content, Intent, cv=3)\n",
    "print(cv_results)\n",
    "np.mean(cv_results)"
   ]
  },
  {
   "cell_type": "code",
   "execution_count": null,
   "metadata": {},
   "outputs": [],
   "source": []
  }
 ]
}